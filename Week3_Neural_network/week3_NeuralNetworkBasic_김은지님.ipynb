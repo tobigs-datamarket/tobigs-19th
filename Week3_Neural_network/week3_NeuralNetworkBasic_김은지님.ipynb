{
 "cells": [
  {
   "cell_type": "markdown",
   "metadata": {},
   "source": [
    "> # Neural Network Basic - Week3 과제 - 19기 김은지\n"
   ]
  },
  {
   "cell_type": "markdown",
   "metadata": {},
   "source": [
    "## Import Library"
   ]
  },
  {
   "cell_type": "code",
   "execution_count": 1,
   "metadata": {},
   "outputs": [],
   "source": [
    "import numpy as np\n",
    "from matplotlib import pyplot as plt\n",
    "from dataset.mnist import load_mnist"
   ]
  },
  {
   "cell_type": "markdown",
   "metadata": {},
   "source": [
    "## Load Dataset\n",
    "- MNIST "
   ]
  },
  {
   "cell_type": "code",
   "execution_count": 2,
   "metadata": {},
   "outputs": [],
   "source": [
    "(X_train, Y_train), (X_test, Y_test) = \\\n",
    "    load_mnist(normalize=True, one_hot_label=False)"
   ]
  },
  {
   "cell_type": "code",
   "execution_count": 3,
   "metadata": {},
   "outputs": [
    {
     "name": "stdout",
     "output_type": "stream",
     "text": [
      "X_train shape: (60000, 784)\n",
      "X_test shape: (10000, 784)\n",
      "Y_train shape: (60000,)\n",
      "Y_train shape: (10000,)\n"
     ]
    }
   ],
   "source": [
    "print(f'X_train shape: {X_train.shape}')\n",
    "print(f'X_test shape: {X_test.shape}')\n",
    "print(f'Y_train shape: {Y_train.shape}')\n",
    "print(f'Y_train shape: {Y_test.shape}')"
   ]
  },
  {
   "cell_type": "markdown",
   "metadata": {},
   "source": [
    "## Activation Function \n",
    "- sigmoid & relu : hidden layer activation function \n",
    "- softmax : output layer activation function "
   ]
  },
  {
   "cell_type": "code",
   "execution_count": 4,
   "metadata": {},
   "outputs": [],
   "source": [
    "class sigmoid:\n",
    "    # sigmoid 함수를 작성하세요 \n",
    "    def forward(x):\n",
    "        z = np.exp(-x) # e^(-x)를 z로 치환\n",
    "        sigmoid = 1 / (1 + z) \n",
    "        return sigmoid\n",
    "    \n",
    "    # sigmoid 함수의 미분을 작성하세요\n",
    "    def backward(x):\n",
    "        res = x + (1 - x)\n",
    "        return res"
   ]
  },
  {
   "cell_type": "code",
   "execution_count": 5,
   "metadata": {},
   "outputs": [],
   "source": [
    "\n",
    "class relu:\n",
    "    # relu 함수를 작성하세요\n",
    "    def forward(x):\n",
    "        return np.maximum(0, x) # 두 값 중 큰 값 반환하는 함수. 입력 x가 0이 넘으면 활성화, 0보다 작으면 무조건 비활성화\n",
    "    \n",
    "    # relu 함수의 미분을 작성하세요\n",
    "    def backward(x):\n",
    "        return np.where(x > 0 , 1, 0) # 0보다 크면 1, 0보다 작거나 같으면 0이므로 np.where 함수를 이용하여 구현"
   ]
  },
  {
   "cell_type": "code",
   "execution_count": 6,
   "metadata": {},
   "outputs": [],
   "source": [
    "class softmax:\n",
    "    def forward(z):\n",
    "        y = []\n",
    "        for zi in z:\n",
    "            c = np.max(zi)\n",
    "            exp_zi = np.exp(zi-c)\n",
    "            sum_exp_zi = np.sum(exp_zi)\n",
    "            yi = exp_zi / sum_exp_zi\n",
    "            y.append(yi)\n",
    "\n",
    "        return np.array(y)\n",
    "    \n",
    "    def backward(p, y) :\n",
    "        dp = p.copy()\n",
    "        for dpi, yi in zip(dp, y):\n",
    "            for k in range(dp.shape[1]):\n",
    "                if k == yi :\n",
    "                    dpi[k] -= 1\n",
    "        return dp"
   ]
  },
  {
   "cell_type": "markdown",
   "metadata": {},
   "source": [
    "## Loss Function"
   ]
  },
  {
   "cell_type": "code",
   "execution_count": 7,
   "metadata": {},
   "outputs": [],
   "source": [
    "def cross_entropy(p, y):\n",
    "    loss = []\n",
    "    for pi, yi in zip(p, y):\n",
    "        for k in range(p.shape[1]):\n",
    "            if k == yi:\n",
    "                loss.append((-1) * (np.log(pi[k] + 1e-8))) \n",
    "    return loss"
   ]
  },
  {
   "cell_type": "markdown",
   "metadata": {},
   "source": [
    "## Layer"
   ]
  },
  {
   "cell_type": "code",
   "execution_count": 8,
   "metadata": {},
   "outputs": [],
   "source": [
    "class Layer:\n",
    "    def __init__(self, input_size, output_size, std=1e-4) :\n",
    "        self.input_size = input_size\n",
    "        self.output_size = output_size\n",
    "        self.bias = np.random.randn(output_size)\n",
    "        self.weight = np.random.randn(input_size, output_size)*std"
   ]
  },
  {
   "cell_type": "markdown",
   "metadata": {},
   "source": [
    "## Neural Network\n",
    "- 각 메소드와 변수들의 역할을 주석으로 달아주세요! "
   ]
  },
  {
   "cell_type": "code",
   "execution_count": 9,
   "metadata": {},
   "outputs": [],
   "source": [
    "class CustomNet:\n",
    "    # CustomNet을 선언할 때 생성되는 값들입니다.\n",
    "    def __init__(self, lr=0.0001, epoch=500, batch_size=200):\n",
    "        self.lr = lr # learning rate, 가중치 업데이트할 때 쓰이는 학습률\n",
    "        self.epoch = epoch  # train set에 포함된 모든 데이터들이 한번씩 모델에 통과한 횟수\n",
    "        self.batch_size = batch_size # 연산 한 번에 들어가는 데이터의 크기\n",
    "        self.loss_function = cross_entropy  # 모델의 손실 함수를 cross entropy로 지정\n",
    "        self.layers = []  # 신경망 모델에 쌓을 레이어 층들\n",
    "        self.activations = [softmax] # 활성화 함수를 softmax로 지정\n",
    "        self.nodes = [] # 레이어 층에 포함되는 노드들\n",
    "    \n",
    "    # Layer를 추가할 때 호출합니다\n",
    "    def addLayer(self, Layer): \n",
    "        self.layers.append(Layer) # 레이어 추가\n",
    "        if not self.nodes: # 노드가 비어있다면\n",
    "            self.nodes.append(np.zeros(Layer.input_size)) # 입력된 input size 만큼 노드를추가\n",
    "        self.nodes.append(np.zeros(Layer.output_size)) # 노드가 비어있지 않다면 output_size만큼 노드를 추가\n",
    "        \n",
    "    # Activation Function을 추가할 때 호출합니다\n",
    "    def addActivation(self, Activation):\n",
    "        tmp = self.activations.pop()  # activation 리스트 중 가장 마지막 요소에 속하는 활성화 함수를 tmp에 임시 보관\n",
    "        self.activations.append(Activation) # 인자로 받은 추가할 활성화 함수를 activation 리스트에 요소로 추가함\n",
    "        self.activations.append(tmp) # tmp에 임시 보관했던 활성화함수를 activation 리스트의 마지막 요소에 추가하여 다시 마지막 요소가 되게끔 함.\n",
    "        \n",
    "    # 순전파 함수\n",
    "    def _forward(self, X):\n",
    "        self.nodes[0] = X.copy() # 첫번재 노드를 X로 초기화함\n",
    "        output = X.copy() # output에 X의 값을 복사해놓음.\n",
    "        for i in range(len(self.layers)):\n",
    "            Layer = self.layers[i] # i번째 레이어를 Layer로 지정\n",
    "            Activation = self.activations[i]  # i번째 활성화 함수를 현재 활성화 함수로 지정\n",
    "            output = np.dot(self.nodes[i], Layer.weight)  # i번째 노드의 값과 가중치의 값을 행렬곱하여 output에 저장\n",
    "            output = output+ Layer.bias  # i번째 노드와 가중치의 값의 행렬곱에 bias를 더함.\n",
    "            output = Activation.forward(output)  # 행렬곱에 bias를 더한 값에 활성화 함수를 적용함.\n",
    "            self.nodes[i+1] = output  # 이를 i+1(다음)노드의 값으로 지정\n",
    "        return output   # 연산 결과를 반환\n",
    "    \n",
    "    # 역전파 함수\n",
    "    def _backward(self, X, output, y) :\n",
    "        for i in reversed(range(len(self.layers))): # 역전파함수이므로 (len(self.layers) - 1)부터 0까지 거꾸로 for문 수행.\n",
    "            a = self.nodes[i+1] # i+1(이전)노드의 값을 a로 지정\n",
    "            Layer = self.layers[i] # i번째 레이어를 Layer로 지정\n",
    "            Activation = self.activations[i] # i번째 활성화함수를 현재 활성화 함수로 지정\n",
    "            \n",
    "            if i+1 == len(self.layers): # 첫번째 레이어일 경우\n",
    "                error = Activation.backward(output, y) # 역전파 함수에 output과 y값을 인자로 지정\n",
    "            else: # 거꾸로 층별로 error 계산 \n",
    "                error *= Activation.backward(a) \n",
    "            Layer.weight -= np.dot(error.T, self.nodes[i]).T*self.lr/X.shape[0] # error와 i번째 노드의 값을 행렬곱하여 learning rate를 곱하고 데이터의 크기만큼 나눠준 값으로 가중치 업데이트해줌.\n",
    "            Layer.bias -= error.sum(axis=0)*self.lr/X.shape[0]  # error의 값에서 첫번째 괄호가 사라졌을 때 남은 원소가 하나로 더해짐. 그 값에 learning rate를 곻밯고 데이터의 크기만큼 나눠준 값으로 bias 업데이트해줌.\n",
    "            error = np.dot(error, Layer.weight.T)  # error는 다시 현재 error의 값과 가중치를 행렬곱한 값으로 업데이트해줌.\n",
    "            \n",
    "    # Accrucy를 반환합니다\n",
    "    def _accuracy(self, output, y):\n",
    "        pre_p = np.argmax(output, axis=1)  # output에서 행별로(각 데이터별로) 각 클래스에 대해 예측한 확률 중 최대 확률에 해당하는 인덱스를 pre_p에 저장\n",
    "        return np.sum(pre_p==y)/y.shape[0] # 예측한 인덱스(클래스)와 실제 클래스가 같은 데이터의 개수를 전체 데이터의 개수로 나눠 Accuracy 계산 및 반환\n",
    "    \n",
    "    # 데이터셋에 모델을 fit할때 호출합니다\n",
    "    def fit(self, X, y, val_X, val_y):\n",
    "        history = {'val_acc': [],'val_loss': []}\n",
    "        N = X.shape[0] # 데이터의 크기\n",
    "        for i in range(self.epoch): # epoch 수만큼 반복\n",
    "            for j in range(N//self.batch_size): # 한 번 학습할 때 batch size만큼 수행\n",
    "                batch_mask = np.random.choice(N, self.batch_size) # 랜덤으로 학습에 이용할 batch 인덱스 batch_mask에 지정\n",
    "                X_batch = X[batch_mask]  # batch_mask로 지정된 인덱스를 이용하여 X에서 학습할 데이터를 추출한 다음 X_batch에 저장\n",
    "                y_batch = y[batch_mask]  # batch_mask로 지정된 인덱스를 이용하여 y에서 학습할 데이터를 추출한 다음 y_batch에 저장\n",
    "                output = self._forward(X_batch)  # batch 데이터에 대해 순전파 학습 수행\n",
    "                self._backward(X_batch, output, y_batch)  # batch 데이터에 대해 역전파 학습 수행\n",
    "            \n",
    "            #accuracy와 loss를 기록해둡시다\n",
    "            output = self._forward(val_X)  # validation X 데이터에 대해 순전파 수행\n",
    "            history[\"val_acc\"].append(self._accuracy(output, val_y))  # validation X 데이터에 대한 순전파 수행 결과와 실제 y데이터를 비교하여 Accuracy 계산 후 val_acc에 저장\n",
    "            history[\"val_loss\"].append(sum(self.loss_function(output, val_y))) # validation X 데이터에 대한 순전파 수행 결과와 실제 y데이터를 비교하여 loss 계산 후 val_loss에 저장\n",
    "            \n",
    "            #중간중간 기록을 찍어볼 때 사용. 적절히 조절해 쓰세요\n",
    "            if i % 10 == 0:\n",
    "                print(i, \"test accuracy :\", history[\"val_acc\"][-1])\n",
    "                print(i, \"test loss     :\", history[\"val_loss\"][-1])\n",
    "        return history"
   ]
  },
  {
   "cell_type": "markdown",
   "metadata": {},
   "source": [
    "## Customizing\n",
    "- Network parameter, Layer architecture, Activation function .. 등등 다양한 하이퍼파라미터를 커스터마이징하여 높은 성능에 도달해 봅시다! "
   ]
  },
  {
   "cell_type": "code",
   "execution_count": 10,
   "metadata": {},
   "outputs": [],
   "source": [
    "# 하이퍼파라미터를 적절히 조절해 뉴럴넷을 선언하세요\n",
    "nn = CustomNet(lr=0.005, epoch=200, batch_size=400)\n",
    "\n",
    "# 원하는 만큼 층과 활성화 함수를 쌓아 주세요. 기본적으로 2Layer를 예시로 적어드립니다\n",
    "nn.addLayer(Layer(784,100))\n",
    "nn.addActivation(sigmoid)\n",
    "nn.addLayer(Layer(100,10))"
   ]
  },
  {
   "cell_type": "code",
   "execution_count": 11,
   "metadata": {},
   "outputs": [
    {
     "name": "stdout",
     "output_type": "stream",
     "text": [
      "(784, 100) (100,)\n",
      "(100, 10) (10,)\n"
     ]
    }
   ],
   "source": [
    "# 선언한 뉴럴넷의 구조입니다\n",
    "for layer in nn.layers:\n",
    "    print(layer.weight.shape, layer.bias.shape)"
   ]
  },
  {
   "cell_type": "code",
   "execution_count": 12,
   "metadata": {},
   "outputs": [
    {
     "name": "stdout",
     "output_type": "stream",
     "text": [
      "0 test accuracy : 0.1543\n",
      "0 test loss     : 23015.980454002532\n",
      "10 test accuracy : 0.1195\n",
      "10 test loss     : 22764.485640496096\n",
      "20 test accuracy : 0.1946\n",
      "20 test loss     : 21677.07435062503\n",
      "30 test accuracy : 0.3032\n",
      "30 test loss     : 19188.308274446714\n",
      "40 test accuracy : 0.4279\n",
      "40 test loss     : 17239.3122509762\n",
      "50 test accuracy : 0.5865\n",
      "50 test loss     : 13705.054831850866\n",
      "60 test accuracy : 0.7001\n",
      "60 test loss     : 10626.927040260316\n",
      "70 test accuracy : 0.7648\n",
      "70 test loss     : 8716.905279878043\n",
      "80 test accuracy : 0.8045\n",
      "80 test loss     : 7423.969140226732\n",
      "90 test accuracy : 0.8277\n",
      "90 test loss     : 6505.391683056242\n",
      "100 test accuracy : 0.8462\n",
      "100 test loss     : 5823.222914478656\n",
      "110 test accuracy : 0.86\n",
      "110 test loss     : 5316.751902338531\n",
      "120 test accuracy : 0.868\n",
      "120 test loss     : 4937.622624387774\n",
      "130 test accuracy : 0.8761\n",
      "130 test loss     : 4655.816292369132\n",
      "140 test accuracy : 0.8821\n",
      "140 test loss     : 4439.69326992318\n",
      "150 test accuracy : 0.8859\n",
      "150 test loss     : 4268.9047343831735\n",
      "160 test accuracy : 0.8896\n",
      "160 test loss     : 4133.202926269976\n",
      "170 test accuracy : 0.89\n",
      "170 test loss     : 4025.416257387931\n",
      "180 test accuracy : 0.8922\n",
      "180 test loss     : 3929.054420879912\n",
      "190 test accuracy : 0.8936\n",
      "190 test loss     : 3845.239982382178\n"
     ]
    }
   ],
   "source": [
    "history = nn.fit(X_train, Y_train, X_test, Y_test)"
   ]
  },
  {
   "cell_type": "code",
   "execution_count": 13,
   "metadata": {},
   "outputs": [
    {
     "name": "stdout",
     "output_type": "stream",
     "text": [
      "(784, 100) (100,)\n",
      "(100, 10) (10,)\n"
     ]
    }
   ],
   "source": [
    "# 1.\n",
    "nn = CustomNet(lr=0.005, epoch=200, batch_size=300)\n",
    "nn.addLayer(Layer(784,100))\n",
    "nn.addActivation(sigmoid)\n",
    "nn.addLayer(Layer(100,10))\n",
    "\n",
    "for layer in nn.layers:\n",
    "    print(layer.weight.shape, layer.bias.shape)"
   ]
  },
  {
   "cell_type": "code",
   "execution_count": 14,
   "metadata": {
    "scrolled": true
   },
   "outputs": [
    {
     "name": "stdout",
     "output_type": "stream",
     "text": [
      "0 test accuracy : 0.1135\n",
      "0 test loss     : 22940.038469778716\n",
      "10 test accuracy : 0.1852\n",
      "10 test loss     : 21864.939579837435\n",
      "20 test accuracy : 0.3158\n",
      "20 test loss     : 19659.88962695787\n",
      "30 test accuracy : 0.5312\n",
      "30 test loss     : 15229.58596362257\n",
      "40 test accuracy : 0.7161\n",
      "40 test loss     : 10364.556313655195\n",
      "50 test accuracy : 0.7768\n",
      "50 test loss     : 7973.138025330704\n",
      "60 test accuracy : 0.8029\n",
      "60 test loss     : 6706.859591198887\n",
      "70 test accuracy : 0.8234\n",
      "70 test loss     : 5953.477556933433\n",
      "80 test accuracy : 0.8398\n",
      "80 test loss     : 5422.352479424038\n",
      "90 test accuracy : 0.8578\n",
      "90 test loss     : 5008.257878502572\n",
      "100 test accuracy : 0.8686\n",
      "100 test loss     : 4683.619559917539\n",
      "110 test accuracy : 0.876\n",
      "110 test loss     : 4435.052678847177\n",
      "120 test accuracy : 0.881\n",
      "120 test loss     : 4238.434232097105\n",
      "130 test accuracy : 0.8872\n",
      "130 test loss     : 4084.1052764746705\n",
      "140 test accuracy : 0.8901\n",
      "140 test loss     : 3965.2718990056137\n",
      "150 test accuracy : 0.8935\n",
      "150 test loss     : 3866.974879454922\n",
      "160 test accuracy : 0.8944\n",
      "160 test loss     : 3789.946533527029\n",
      "170 test accuracy : 0.8958\n",
      "170 test loss     : 3725.9829365543565\n",
      "180 test accuracy : 0.8967\n",
      "180 test loss     : 3676.7892271269016\n",
      "190 test accuracy : 0.8972\n",
      "190 test loss     : 3634.4861097840326\n"
     ]
    }
   ],
   "source": [
    "history = nn.fit(X_train, Y_train, X_test, Y_test)"
   ]
  },
  {
   "cell_type": "code",
   "execution_count": 16,
   "metadata": {},
   "outputs": [
    {
     "name": "stdout",
     "output_type": "stream",
     "text": [
      "(784, 100) (100,)\n",
      "(100, 10) (10,)\n"
     ]
    }
   ],
   "source": [
    "# 2.\n",
    "nn = CustomNet(lr=0.01, epoch=200, batch_size=300)\n",
    "nn.addLayer(Layer(784,100))\n",
    "nn.addActivation(sigmoid)\n",
    "nn.addLayer(Layer(100,10))\n",
    "\n",
    "for layer in nn.layers:\n",
    "    print(layer.weight.shape, layer.bias.shape)"
   ]
  },
  {
   "cell_type": "code",
   "execution_count": 17,
   "metadata": {
    "scrolled": true
   },
   "outputs": [
    {
     "name": "stdout",
     "output_type": "stream",
     "text": [
      "0 test accuracy : 0.1705\n",
      "0 test loss     : 22799.394758582665\n",
      "10 test accuracy : 0.337\n",
      "10 test loss     : 17912.25734268908\n",
      "20 test accuracy : 0.7076\n",
      "20 test loss     : 10274.183512052847\n",
      "30 test accuracy : 0.8365\n",
      "30 test loss     : 6150.8732918108035\n",
      "40 test accuracy : 0.8732\n",
      "40 test loss     : 4717.7046946184355\n",
      "50 test accuracy : 0.8897\n",
      "50 test loss     : 4059.2568106687695\n",
      "60 test accuracy : 0.8986\n",
      "60 test loss     : 3693.555443625253\n",
      "70 test accuracy : 0.9034\n",
      "70 test loss     : 3464.881981810225\n",
      "80 test accuracy : 0.9074\n",
      "80 test loss     : 3318.7102773950987\n",
      "90 test accuracy : 0.9093\n",
      "90 test loss     : 3212.891715546466\n",
      "100 test accuracy : 0.9117\n",
      "100 test loss     : 3130.6134473209427\n",
      "110 test accuracy : 0.9133\n",
      "110 test loss     : 3071.06467971212\n",
      "120 test accuracy : 0.914\n",
      "120 test loss     : 3027.937914830588\n",
      "130 test accuracy : 0.9138\n",
      "130 test loss     : 2996.2972038134994\n",
      "140 test accuracy : 0.9148\n",
      "140 test loss     : 2965.5802370191695\n",
      "150 test accuracy : 0.9161\n",
      "150 test loss     : 2943.605864143728\n",
      "160 test accuracy : 0.9162\n",
      "160 test loss     : 2925.1357161541478\n",
      "170 test accuracy : 0.9169\n",
      "170 test loss     : 2911.330167219606\n",
      "180 test accuracy : 0.9167\n",
      "180 test loss     : 2899.928731443797\n",
      "190 test accuracy : 0.9169\n",
      "190 test loss     : 2892.3916867360513\n"
     ]
    }
   ],
   "source": [
    "history_2 = nn.fit(X_train, Y_train, X_test, Y_test)"
   ]
  },
  {
   "cell_type": "code",
   "execution_count": 19,
   "metadata": {},
   "outputs": [
    {
     "name": "stdout",
     "output_type": "stream",
     "text": [
      "(784, 100) (100,)\n",
      "(100, 10) (10,)\n"
     ]
    }
   ],
   "source": [
    "# 3.\n",
    "nn = CustomNet(lr=0.005, epoch=200, batch_size=300)\n",
    "nn.addLayer(Layer(784,100))\n",
    "nn.addActivation(sigmoid)\n",
    "nn.addLayer(Layer(100,10))\n",
    "\n",
    "for layer in nn.layers:\n",
    "    print(layer.weight.shape, layer.bias.shape)"
   ]
  },
  {
   "cell_type": "code",
   "execution_count": 20,
   "metadata": {
    "scrolled": true
   },
   "outputs": [
    {
     "name": "stdout",
     "output_type": "stream",
     "text": [
      "0 test accuracy : 0.1135\n",
      "0 test loss     : 23006.879963443094\n",
      "10 test accuracy : 0.1246\n",
      "10 test loss     : 22416.729784906736\n",
      "20 test accuracy : 0.3339\n",
      "20 test loss     : 19859.711165278943\n",
      "30 test accuracy : 0.4811\n",
      "30 test loss     : 16128.769259961882\n",
      "40 test accuracy : 0.6192\n",
      "40 test loss     : 12200.195641525124\n",
      "50 test accuracy : 0.7209\n",
      "50 test loss     : 9885.78033537415\n",
      "60 test accuracy : 0.765\n",
      "60 test loss     : 8321.006506420947\n",
      "70 test accuracy : 0.8023\n",
      "70 test loss     : 7199.515071313425\n",
      "80 test accuracy : 0.8258\n",
      "80 test loss     : 6362.259462675005\n",
      "90 test accuracy : 0.8391\n",
      "90 test loss     : 5792.935245057819\n",
      "100 test accuracy : 0.8484\n",
      "100 test loss     : 5415.327529140795\n",
      "110 test accuracy : 0.8531\n",
      "110 test loss     : 5173.648550479482\n",
      "120 test accuracy : 0.8565\n",
      "120 test loss     : 5016.976753157288\n",
      "130 test accuracy : 0.8579\n",
      "130 test loss     : 4908.653375419583\n",
      "140 test accuracy : 0.8592\n",
      "140 test loss     : 4807.57307536174\n",
      "150 test accuracy : 0.8621\n",
      "150 test loss     : 4688.373282289617\n",
      "160 test accuracy : 0.8711\n",
      "160 test loss     : 4552.963322795038\n",
      "170 test accuracy : 0.8784\n",
      "170 test loss     : 4430.891653392722\n",
      "180 test accuracy : 0.8813\n",
      "180 test loss     : 4311.319341923381\n",
      "190 test accuracy : 0.8825\n",
      "190 test loss     : 4214.701636789859\n"
     ]
    }
   ],
   "source": [
    "history_3 = nn.fit(X_train, Y_train, X_test, Y_test)"
   ]
  },
  {
   "cell_type": "markdown",
   "metadata": {},
   "source": [
    "lr=0.005, epoch=200, batch_size=300 일 때 Accuracy = 0.9169로 가장 높았다."
   ]
  },
  {
   "cell_type": "markdown",
   "metadata": {},
   "source": [
    "## Accuracy, Loss Visualization\n",
    "- 자유롭게 Accuracy나 Loss를 시각화하여 확인하고 결과를 확인해 보세요! "
   ]
  },
  {
   "cell_type": "code",
   "execution_count": 15,
   "metadata": {},
   "outputs": [
    {
     "data": {
      "image/png": "[encoded data removed]",
      "text/plain": [
       "<Figure size 432x288 with 2 Axes>"
      ]
     },
     "metadata": {
      "needs_background": "light"
     },
     "output_type": "display_data"
    }
   ],
   "source": [
    "fig = plt.figure()\n",
    "ax = fig.add_subplot(111)\n",
    "\n",
    "ax.plot(range(200), history['val_acc'], color='indianred')\n",
    "plt.xlabel('epochs')\n",
    "plt.ylabel('Accuracy(%)')\n",
    "ax2 = ax.twinx()\n",
    "ax2.plot(range(200), history['val_loss'], color='steelblue')\n",
    "plt.ylabel('Loss')\n",
    "\n",
    "plt.show()"
   ]
  },
  {
   "cell_type": "code",
   "execution_count": 18,
   "metadata": {},
   "outputs": [
    {
     "data": {
      "image/png": "[encoded data removed]",
      "text/plain": [
       "<Figure size 432x288 with 2 Axes>"
      ]
     },
     "metadata": {
      "needs_background": "light"
     },
     "output_type": "display_data"
    }
   ],
   "source": [
    "fig = plt.figure()\n",
    "ax = fig.add_subplot(111)\n",
    "\n",
    "ax.plot(range(200), history_2['val_acc'], color='indianred')\n",
    "plt.xlabel('epochs')\n",
    "plt.ylabel('Accuracy(%)')\n",
    "ax2 = ax.twinx()\n",
    "ax2.plot(range(200), history_2['val_loss'], color='steelblue')\n",
    "plt.ylabel('Loss')\n",
    "\n",
    "plt.show()"
   ]
  },
  {
   "cell_type": "code",
   "execution_count": 21,
   "metadata": {},
   "outputs": [
    {
     "data": {
      "image/png": "[encoded data removed]",
      "text/plain": [
       "<Figure size 432x288 with 2 Axes>"
      ]
     },
     "metadata": {
      "needs_background": "light"
     },
     "output_type": "display_data"
    }
   ],
   "source": [
    "fig = plt.figure()\n",
    "ax = fig.add_subplot(111)\n",
    "\n",
    "ax.plot(range(200), history_3['val_acc'], color='indianred')\n",
    "plt.xlabel('epochs')\n",
    "plt.ylabel('Accuracy(%)')\n",
    "ax2 = ax.twinx()\n",
    "ax2.plot(range(200), history_3['val_loss'], color='steelblue')\n",
    "plt.ylabel('Loss')\n",
    "\n",
    "plt.show()"
   ]
  },
  {
   "cell_type": "code",
   "execution_count": null,
   "metadata": {},
   "outputs": [],
   "source": []
  }
 ],
 "metadata": {
  "kernelspec": {
   "display_name": "Python 3",
   "language": "python",
   "name": "python3"
  },
  "language_info": {
   "codemirror_mode": {
    "name": "ipython",
    "version": 3
   },
   "file_extension": ".py",
   "mimetype": "text/x-python",
   "name": "python",
   "nbconvert_exporter": "python",
   "pygments_lexer": "ipython3",
   "version": "3.7.3"
  }
 },
 "nbformat": 4,
 "nbformat_minor": 5
}
